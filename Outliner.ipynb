{
  "nbformat": 4,
  "nbformat_minor": 0,
  "metadata": {
    "colab": {
      "name": "outliner.ipynb",
      "provenance": [],
      "collapsed_sections": [],
      "toc_visible": true,
      "mount_file_id": "1gWTn3fIeW62--sZxD02a_MADv2trmIrN",
      "authorship_tag": "ABX9TyOxVYX/wUbWx+yu3fxEByUc",
      "include_colab_link": true
    },
    "kernelspec": {
      "name": "python3",
      "display_name": "Python 3"
    },
    "accelerator": "GPU"
  },
  "cells": [
    {
      "cell_type": "markdown",
      "metadata": {
        "id": "view-in-github",
        "colab_type": "text"
      },
      "source": [
        "<a href=\"https://colab.research.google.com/github/maha-alarifi/Aligatou_AI/blob/master/Outliner.ipynb\" target=\"_parent\"><img src=\"https://colab.research.google.com/assets/colab-badge.svg\" alt=\"Open In Colab\"/></a>"
      ]
    },
    {
      "cell_type": "markdown",
      "metadata": {
        "id": "y9pRx2RadMDi",
        "colab_type": "text"
      },
      "source": [
        "#Welcome To Aligatou_AI's Outlines Extractor \n",
        "\n",
        "We apprach this goal with two methods one is using the edge filter and then invert the colors and the other method is using the contor filter. Our conclusion is that the both methods do exactly the same thing so you should pick one and not waset space on doing both :)"
      ]
    },
    {
      "cell_type": "code",
      "metadata": {
        "id": "Ky4DYA2aAv75",
        "colab_type": "code",
        "colab": {}
      },
      "source": [
        "from PIL import Image, ImageFilter\n",
        "from PIL.ImageFilter import CONTOUR, FIND_EDGES\n",
        "import os\n",
        "import glob\n",
        "import matplotlib.pyplot as plt\n",
        "import PIL.ImageOps"
      ],
      "execution_count": 0,
      "outputs": []
    },
    {
      "cell_type": "code",
      "metadata": {
        "id": "65XS2waPBvP_",
        "colab_type": "code",
        "colab": {}
      },
      "source": [
        "# Please notice that this folder is inside my drive and you should\n",
        "# put your own dataset folder path \n",
        "directory = os.fsencode(\"/content/drive/My Drive/AiDataset_February_21/Aligatou_AI -Dataset/segments/*.png\")"
      ],
      "execution_count": 0,
      "outputs": []
    },
    {
      "cell_type": "markdown",
      "metadata": {
        "id": "o5MMSHFzZwAP",
        "colab_type": "text"
      },
      "source": [
        "## Experment A"
      ]
    },
    {
      "cell_type": "code",
      "metadata": {
        "id": "QYqTUUqgB_iC",
        "colab_type": "code",
        "outputId": "afeb567e-6786-4991-98fa-9f720d2022ac",
        "colab": {
          "base_uri": "https://localhost:8080/",
          "height": 286
        }
      },
      "source": [
        "for i in range(len(glob.glob(directory))):\n",
        "  image = Image.open(glob.glob(directory)[i].decode())\n",
        "  image = image.filter(ImageFilter.FIND_EDGES)\n",
        "  inverted_image = PIL.ImageOps.invert(image)\n",
        "  plt.imshow(inverted_image)\n",
        "  # Please notice that this folder is inside my drive and you should\n",
        "  # put your own output folder path \n",
        "  image.save('/content/drive/My Drive/AiDataset_February_21/outliner/o_{}.png'.format(i)) "
      ],
      "execution_count": 37,
      "outputs": [
        {
          "output_type": "execute_result",
          "data": {
            "text/plain": [
              "<matplotlib.image.AxesImage at 0x7f46314dce48>"
            ]
          },
          "metadata": {
            "tags": []
          },
          "execution_count": 37
        },
        {
          "output_type": "display_data",
          "data": {
            "image/png": "[encoded data removed]",
            "text/plain": [
              "<Figure size 432x288 with 1 Axes>"
            ]
          },
          "metadata": {
            "tags": []
          }
        }
      ]
    },
    {
      "cell_type": "markdown",
      "metadata": {
        "id": "xFpHSAQOZ4K5",
        "colab_type": "text"
      },
      "source": [
        "## Experment B"
      ]
    },
    {
      "cell_type": "code",
      "metadata": {
        "id": "vDisDtdNuR0d",
        "colab_type": "code",
        "colab": {
          "base_uri": "https://localhost:8080/",
          "height": 286
        },
        "outputId": "21119956-9c2b-4f24-cf9b-45004a2b3f74"
      },
      "source": [
        "for i in range(len(glob.glob(directory))):\n",
        "  image = Image.open(glob.glob(directory)[i].decode())\n",
        "  image = image.filter(CONTOUR)\n",
        "  plt.imshow(image)\n",
        "  # Please notice that this folder is inside my drive and you should\n",
        "  # put your own output folder path \n",
        "  image.save('/content/drive/My Drive/AiDataset_February_21/outliner_v2_white/W_{}.png'.format(i)) "
      ],
      "execution_count": 38,
      "outputs": [
        {
          "output_type": "execute_result",
          "data": {
            "text/plain": [
              "<matplotlib.image.AxesImage at 0x7f46314419b0>"
            ]
          },
          "metadata": {
            "tags": []
          },
          "execution_count": 38
        },
        {
          "output_type": "display_data",
          "data": {
            "image/png": "[encoded data removed]",
            "text/plain": [
              "<Figure size 432x288 with 1 Axes>"
            ]
          },
          "metadata": {
            "tags": []
          }
        }
      ]
    }
  ]
}