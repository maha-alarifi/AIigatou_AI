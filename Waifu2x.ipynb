{
  "nbformat": 4,
  "nbformat_minor": 0,
  "metadata": {
    "colab": {
      "name": "Waifu2x",
      "provenance": [],
      "private_outputs": true,
      "collapsed_sections": [],
      "include_colab_link": true
    },
    "kernelspec": {
      "name": "python3",
      "display_name": "Python 3"
    },
    "accelerator": "GPU"
  },
  "cells": [
    {
      "cell_type": "markdown",
      "metadata": {
        "id": "view-in-github",
        "colab_type": "text"
      },
      "source": [
        "<a href=\"https://colab.research.google.com/github/maha-alarifi/Aligatou_AI/blob/master/Waifu2x.ipynb\" target=\"_parent\"><img src=\"https://colab.research.google.com/assets/colab-badge.svg\" alt=\"Open In Colab\"/></a>"
      ]
    },
    {
      "cell_type": "markdown",
      "metadata": {
        "id": "FgpYZ7_WucOd",
        "colab_type": "text"
      },
      "source": [
        "#Welcome to Aligatou AL Postproduction Process\n",
        "This note book is adopted from Sofia and Feileacan  "
      ]
    },
    {
      "cell_type": "markdown",
      "metadata": {
        "id": "HwXjSv6Buc6b",
        "colab_type": "text"
      },
      "source": [
        "## Setup"
      ]
    },
    {
      "cell_type": "markdown",
      "metadata": {
        "id": "hAgEjCzKuyBr",
        "colab_type": "text"
      },
      "source": [
        "Run the cell below to setup waifu2x, then use the file interface on the left to upload the illustrations you wish to upscale in to the `Input_Images` folder."
      ]
    },
    {
      "cell_type": "code",
      "metadata": {
        "id": "1M7PHpNbxCte",
        "colab_type": "code",
        "colab": {}
      },
      "source": [
        "!pip install -q cupy-cuda100\n",
        "!pip install -q futures\n",
        "!pip install -q chainer\n",
        "!git clone -l -s https://github.com/tsurumeso/waifu2x-chainer.git waifu2x-chainer\n",
        "%cd waifu2x-chainer\n",
        "%cd /content\n",
        "%mkdir Input_images\n",
        "%mkdir Output_images\n",
        "%cd /content/waifu2x-chainer\n",
        "%pwd"
      ],
      "execution_count": 0,
      "outputs": []
    },
    {
      "cell_type": "code",
      "metadata": {
        "id": "ozU59OnsIfwV",
        "colab_type": "code",
        "colab": {}
      },
      "source": [
        "!python waifu2x.py --help"
      ],
      "execution_count": 0,
      "outputs": []
    },
    {
      "cell_type": "code",
      "metadata": {
        "id": "EmQwHSLTKNz8",
        "colab_type": "code",
        "colab": {}
      },
      "source": [
        "# Here we upscale and reduce noise of one of our generated folders \n",
        "#  -n 3 is the noise reduction level where 3 is the maximum level \n",
        "#  -i is the input option after it image folder path\n",
        "#  -o is the output option after it image output path \n",
        "# and here we applaied this command twoice \n",
        "# where the output of the first command is the input of the second\n",
        "# to have even larger image and cleaner image \n",
        "\n",
        "!python waifu2x.py -m noise_scale -n 3 -i \"/content/drive/My Drive/AiDataset_February_21/original_outliner_white_output_600\" -o \"/content/drive/My Drive/AiDataset_February_21/upscaled_original_outliner_white_600\" -a 0 -g 0\n",
        "!python waifu2x.py -m noise_scale -n 3 -i \"/content/drive/My Drive/AiDataset_February_21/upscaled_original_outliner_white_600\" -o \"/content/drive/My Drive/AiDataset_February_21/upscaled_2_original_outliner_white_output_600\" -a 0 -g 0\n"
      ],
      "execution_count": 0,
      "outputs": []
    }
  ]
}