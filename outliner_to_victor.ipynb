{
  "nbformat": 4,
  "nbformat_minor": 0,
  "metadata": {
    "colab": {
      "name": "outliner_to_victor.ipynb",
      "provenance": [],
      "collapsed_sections": [],
      "mount_file_id": "1-DOxcExdjgiiUv3ad78c4s-ERd1htNeC",
      "authorship_tag": "ABX9TyMzTEg2nehZiwDuY6kMlVjZ",
      "include_colab_link": true
    },
    "kernelspec": {
      "name": "python3",
      "display_name": "Python 3"
    },
    "accelerator": "GPU"
  },
  "cells": [
    {
      "cell_type": "markdown",
      "metadata": {
        "id": "view-in-github",
        "colab_type": "text"
      },
      "source": [
        "<a href=\"https://colab.research.google.com/github/maha-alarifi/AIigatou_AI/blob/master/outliner_to_victor.ipynb\" target=\"_parent\"><img src=\"https://colab.research.google.com/assets/colab-badge.svg\" alt=\"Open In Colab\"/></a>"
      ]
    },
    {
      "cell_type": "markdown",
      "metadata": {
        "id": "8hsnMYduwwDA",
        "colab_type": "text"
      },
      "source": [
        "# This is the script where the victores are generated from the images"
      ]
    },
    {
      "cell_type": "code",
      "metadata": {
        "id": "d_eoAEMP8OQg",
        "colab_type": "code",
        "colab": {}
      },
      "source": [
        "from skimage.color import rgb2gray\n",
        "import os\n",
        "import glob\n",
        "from PIL import Image, ImageFilter\n",
        "import numpy as np\n",
        "import cv2\n",
        "import matplotlib.pyplot as plt\n",
        "%matplotlib inline\n",
        "from scipy import ndimage\n",
        "from sklearn.cluster import KMeans"
      ],
      "execution_count": 0,
      "outputs": []
    },
    {
      "cell_type": "code",
      "metadata": {
        "id": "DS2eQr1YmJ8E",
        "colab_type": "code",
        "colab": {}
      },
      "source": [
        "directory = os.fsencode(\"/content/drive/My Drive/AiDataset_February_21/original_outliner_white_output_500/*.png\")"
      ],
      "execution_count": 0,
      "outputs": []
    },
    {
      "cell_type": "code",
      "metadata": {
        "id": "2rOTE2FVh2vq",
        "colab_type": "code",
        "colab": {}
      },
      "source": [
        "links = glob.glob(directory)\n",
        "imgs = []"
      ],
      "execution_count": 0,
      "outputs": []
    },
    {
      "cell_type": "code",
      "metadata": {
        "id": "SalMPZ4zU1GJ",
        "colab_type": "code",
        "outputId": "abd34003-219f-45ac-fba7-09ed6bd607a0",
        "colab": {
          "base_uri": "https://localhost:8080/",
          "height": 34
        }
      },
      "source": [
        "len(links)"
      ],
      "execution_count": 0,
      "outputs": [
        {
          "output_type": "execute_result",
          "data": {
            "text/plain": [
              "10000"
            ]
          },
          "metadata": {
            "tags": []
          },
          "execution_count": 6
        }
      ]
    },
    {
      "cell_type": "code",
      "metadata": {
        "id": "8Y6lVkNLdEZK",
        "colab_type": "code",
        "colab": {}
      },
      "source": [
        "def recursive_segmetation (a, b):\n",
        "  x = plt.imread(a[0].decode())\n",
        "  x_n = x.reshape(x.shape[0]*x.shape[1], x.shape[2])\n",
        "\n",
        "\n",
        "  for i in range(2,5):\n",
        "    print('fitting the k-mean '+ str(i))\n",
        "    kmeans = KMeans(n_clusters=i, random_state=0).fit(x_n)\n",
        "    pic2show = kmeans.cluster_centers_[kmeans.labels_]\n",
        "    cluster_pic = pic2show.reshape(x.shape[0], x.shape[1], x.shape[2])\n",
        "    b.append(cluster_pic)\n",
        "\n",
        "  if len(a) == 1:\n",
        "    print('break statment')\n",
        "    return b\n",
        "  else :\n",
        "    print('recursive call')\n",
        "    print(len(a))\n",
        "    return recursive_segmetation(a[1:], b)\n"
      ],
      "execution_count": 0,
      "outputs": []
    },
    {
      "cell_type": "code",
      "metadata": {
        "id": "BVgQ6r1GnX_g",
        "colab_type": "code",
        "colab": {}
      },
      "source": [
        "c = recursive_segmetation(links[5000:5010],imgs)"
      ],
      "execution_count": 0,
      "outputs": []
    },
    {
      "cell_type": "code",
      "metadata": {
        "id": "TaMtNMqsieKJ",
        "colab_type": "code",
        "colab": {}
      },
      "source": [
        "for i in range(len(c)):\n",
        "  print(i)\n",
        "  img = Image.fromarray((c[i] * 255).astype(np.uint8))\n",
        "  plt.imshow(c[i])\n",
        "  plt.axis('off')\n",
        "  plt.show()"
      ],
      "execution_count": 0,
      "outputs": []
    },
    {
      "cell_type": "code",
      "metadata": {
        "id": "WwTzPOsL1X3m",
        "colab_type": "code",
        "colab": {}
      },
      "source": [
        "imgray = cv2.cvtColor((np.array(new_image3) * 255).astype(np.uint8),cv2.COLOR_BGR2GRAY)\n",
        "ret,thresh = cv2.threshold(imgray,127,255,0)\n",
        "contours, hierarchy = cv2.findContours(thresh,cv2.RETR_TREE,cv2.CHAIN_APPROX_SIMPLE)"
      ],
      "execution_count": 0,
      "outputs": []
    },
    {
      "cell_type": "code",
      "metadata": {
        "id": "zgq81ZLKwGU7",
        "colab_type": "code",
        "colab": {}
      },
      "source": [
        "cv2.drawContours((np.array(g[29])), contours, -1, (0,255,0), 4);"
      ],
      "execution_count": 0,
      "outputs": []
    },
    {
      "cell_type": "code",
      "metadata": {
        "id": "GJHgirSeUq7h",
        "colab_type": "code",
        "colab": {}
      },
      "source": [
        "with open(\"path.svg\", \"w+\") as f:\n",
        "    f.write(f'<svg viewBox=\"0 0 256 256\" xmlns=\"http://www.w3.org/2000/svg\">')\n",
        "    f.write('<g fill=\"none\" stroke-width=\"4\">')\n",
        "    for c in contours:\n",
        "        f.write('<path d=\"M')\n",
        "        for i in range(len(c)):\n",
        "            x, y = c[i][0]\n",
        "            f.write(f\"{x} {y} \")\n",
        "        f.write('\" style=\"stroke:pink\"/>')\n",
        "    f.write('</g>')\n",
        "    f.write(\"</svg>\")"
      ],
      "execution_count": 0,
      "outputs": []
    },
    {
      "cell_type": "code",
      "metadata": {
        "id": "HCxOQALkrr_i",
        "colab_type": "code",
        "colab": {}
      },
      "source": [
        "import numpy as np\n",
        "import matplotlib.pyplot as plt\n",
        "from scipy.ndimage.morphology import binary_erosion\n",
        "\n",
        "# a = np.zeros((100,100), np.uint8)\n",
        "# a[10:20,30:40] = 1\n",
        "m = np.array(image) - binary_erosion(np.array(image))\n",
        "plt.matshow(m, cmap=plt.cm.gray)"
      ],
      "execution_count": 0,
      "outputs": []
    },
    {
      "cell_type": "code",
      "metadata": {
        "id": "EWMKZsqHBWSJ",
        "colab_type": "code",
        "colab": {}
      },
      "source": [
        "figure_size = 9"
      ],
      "execution_count": 0,
      "outputs": []
    },
    {
      "cell_type": "code",
      "metadata": {
        "id": "B_5n_d598aph",
        "colab_type": "code",
        "colab": {}
      },
      "source": [
        "# d = []\n",
        "for i in range(len(c)):\n",
        "  print(i)\n",
        "  # d.append(cv2.medianBlur((c[i] * 255).astype(np.uint8), figure_size))\n",
        "  plt.imshow(d[i])\n",
        "  plt.axis('off')\n",
        "  plt.show()\n",
        "  "
      ],
      "execution_count": 0,
      "outputs": []
    },
    {
      "cell_type": "code",
      "metadata": {
        "id": "eQ6h8ep6WGFY",
        "colab_type": "code",
        "colab": {}
      },
      "source": [
        "# e = []\n",
        "for i in range(len(c)):\n",
        "  print(i)\n",
        "  # e.append(cv2.blur(c[i],(figure_size, figure_size)))\n",
        "  # d.append(new_image)\n",
        "  plt.imshow(e[i])\n",
        "  plt.axis('off')\n",
        "  plt.show()"
      ],
      "execution_count": 0,
      "outputs": []
    },
    {
      "cell_type": "code",
      "metadata": {
        "id": "pmVv46vbA-8V",
        "colab_type": "code",
        "colab": {}
      },
      "source": [
        "# f = []\n",
        "for i in range(len(c)):\n",
        "  print(i)\n",
        "  # f.append(cv2.GaussianBlur((c[i] * 255).astype(np.uint8), (9, 9),0))\n",
        "  # d.append(new_image)\n",
        "  plt.imshow(f[i])\n",
        "  plt.axis('off')\n",
        "  plt.show()"
      ],
      "execution_count": 0,
      "outputs": []
    },
    {
      "cell_type": "code",
      "metadata": {
        "id": "L0lp8wlxBd4p",
        "colab_type": "code",
        "colab": {}
      },
      "source": [
        "# g = []\n",
        "for i in range(len(c)):\n",
        "  print(i)\n",
        "  # image = Image.fromarray((c[i] * 255).astype('uint8'))\n",
        "  # g.append(image.filter(ImageFilter.UnsharpMask(radius=2, percent=150)))\n",
        "  plt.imshow(g[i])\n",
        "  plt.axis('off')\n",
        "  plt.show()"
      ],
      "execution_count": 0,
      "outputs": []
    },
    {
      "cell_type": "code",
      "metadata": {
        "id": "j0IsRgzDEmSS",
        "colab_type": "code",
        "colab": {}
      },
      "source": [
        "# h = []\n",
        "for i in range(len(c)):\n",
        "  print(i)\n",
        "  # h.append(cv2.Laplacian((np.array(c[i]) * 255).astype('uint8'),cv2.CV_64F))\n",
        "  plt.imshow(h[i])\n",
        "  plt.axis('off')\n",
        "  plt.show()"
      ],
      "execution_count": 0,
      "outputs": []
    },
    {
      "cell_type": "code",
      "metadata": {
        "id": "gfz2QOdBE2-M",
        "colab_type": "code",
        "colab": {}
      },
      "source": [
        "new_image3 = cv2.medianBlur((np.array(new_image3) * 255).astype(np.uint8), 9)\n",
        "plt.imshow(new_image3)\n",
        "plt.axis('off')\n",
        "plt.show()"
      ],
      "execution_count": 0,
      "outputs": []
    },
    {
      "cell_type": "code",
      "metadata": {
        "id": "F0yidKiF6YLX",
        "colab_type": "code",
        "colab": {}
      },
      "source": [
        "image = Image.fromarray((h[20] * 255).astype('uint8'))\n",
        "new_image2 = image.filter(ImageFilter.UnsharpMask(radius=2, percent=150))\n",
        "plt.imshow(new_image2)\n",
        "plt.axis('off')\n",
        "plt.show()"
      ],
      "execution_count": 0,
      "outputs": []
    },
    {
      "cell_type": "code",
      "metadata": {
        "id": "BMvpQImEbJ5E",
        "colab_type": "code",
        "colab": {}
      },
      "source": [
        "new_image1 = cv2.GaussianBlur((h[20] * 255).astype(np.uint8), (9, 9),0)\n",
        "plt.imshow(new_image1)\n",
        "plt.axis('off')\n",
        "plt.show()"
      ],
      "execution_count": 0,
      "outputs": []
    },
    {
      "cell_type": "code",
      "metadata": {
        "id": "Y14Lq4Xssu88",
        "colab_type": "code",
        "colab": {}
      },
      "source": [
        "new_image0 = cv2.Laplacian((np.array(e[20]) * 255).astype('uint8'),cv2.CV_64F)\n",
        "plt.imshow(new_image0)\n",
        "plt.axis('off')\n",
        "plt.show()"
      ],
      "execution_count": 0,
      "outputs": []
    },
    {
      "cell_type": "code",
      "metadata": {
        "id": "UmSUi44stZi3",
        "colab_type": "code",
        "colab": {}
      },
      "source": [
        "!git clone https://github.com/migvel/color_trace.git"
      ],
      "execution_count": 0,
      "outputs": []
    },
    {
      "cell_type": "code",
      "metadata": {
        "id": "fyW9rSABvgXb",
        "colab_type": "code",
        "outputId": "87571744-cd2b-49b4-c591-aca3d8fc4b6e",
        "colab": {
          "base_uri": "https://localhost:8080/",
          "height": 34
        }
      },
      "source": [
        "%cd /content/color_trace"
      ],
      "execution_count": 0,
      "outputs": [
        {
          "output_type": "stream",
          "text": [
            "/content/color_trace\n"
          ],
          "name": "stdout"
        }
      ]
    },
    {
      "cell_type": "code",
      "metadata": {
        "id": "5gJ-mGVKvp0I",
        "colab_type": "code",
        "outputId": "c1168ec4-bac3-4aaa-d22c-944e1797b99d",
        "colab": {
          "base_uri": "https://localhost:8080/",
          "height": 34
        }
      },
      "source": [
        "!pwd"
      ],
      "execution_count": 0,
      "outputs": [
        {
          "output_type": "stream",
          "text": [
            "/content/color_trace\n"
          ],
          "name": "stdout"
        }
      ]
    },
    {
      "cell_type": "code",
      "metadata": {
        "id": "MZKfOk9evrXX",
        "colab_type": "code",
        "outputId": "28eee493-6b51-41dd-a818-6f7bf4d3f140",
        "colab": {
          "base_uri": "https://localhost:8080/",
          "height": 323
        }
      },
      "source": [
        "!python color_trace_multi.py --input \"/content/drive/My Drive/AiDataset_February_21/original_outliner_white_output_500/1.png\" --colors 5 --quantization 'as' --riemersma #--output \"/content\"  --directory \"/content\" #-c 5 -q \"as\" -ri -s "
      ],
      "execution_count": 0,
      "outputs": [
        {
          "output_type": "stream",
          "text": [
            "\r0.0%Process color_trace worker #0:\n",
            "Traceback (most recent call last):\n",
            "  File \"/usr/lib/python3.6/multiprocessing/process.py\", line 258, in _bootstrap\n",
            "    self.run()\n",
            "  File \"/usr/lib/python3.6/multiprocessing/process.py\", line 93, in run\n",
            "    self._target(*self._args, **self._kwargs)\n",
            "  File \"color_trace_multi.py\", line 735, in process_worker\n",
            "    q1_job(q2, total, layers, settings, **job_args)\n",
            "  File \"color_trace_multi.py\", line 634, in q1_job\n",
            "    raise e\n",
            "  File \"color_trace_multi.py\", line 625, in q1_job\n",
            "    width = get_width(input)\n",
            "  File \"color_trace_multi.py\", line 356, in get_width\n",
            "    width = int(stdoutput)\n",
            "ValueError: invalid literal for int() with base 10: b''\n",
            "\rTracing complete!\n",
            "Traceback (most recent call last):\n",
            "\n"
          ],
          "name": "stdout"
        }
      ]
    },
    {
      "cell_type": "code",
      "metadata": {
        "id": "9Hy-irzRzG12",
        "colab_type": "code",
        "colab": {}
      },
      "source": [
        "!python color_trace_multi.py --help"
      ],
      "execution_count": 0,
      "outputs": []
    },
    {
      "cell_type": "code",
      "metadata": {
        "id": "6jr7BFAN0RA4",
        "colab_type": "code",
        "colab": {}
      },
      "source": [
        "!python color_trace_multi.py -i B_0987.png -o img1.svg -d . -c 5 -q nq -s -p 3"
      ],
      "execution_count": 0,
      "outputs": []
    },
    {
      "cell_type": "code",
      "metadata": {
        "id": "FdN-TsUx25_k",
        "colab_type": "code",
        "colab": {}
      },
      "source": [
        ",ImageMagick's convert and identify, and Potrace."
      ],
      "execution_count": 0,
      "outputs": []
    },
    {
      "cell_type": "code",
      "metadata": {
        "id": "d2C7P0ak4Nha",
        "colab_type": "code",
        "colab": {}
      },
      "source": [
        "!pip install pngquant"
      ],
      "execution_count": 0,
      "outputs": []
    },
    {
      "cell_type": "code",
      "metadata": {
        "id": "zalN6ZWM4OXE",
        "colab_type": "code",
        "outputId": "1a9b2627-5f89-4573-dc45-acb830d737db",
        "colab": {
          "base_uri": "https://localhost:8080/",
          "height": 51
        }
      },
      "source": [
        "!pip install pngnq"
      ],
      "execution_count": 0,
      "outputs": [
        {
          "output_type": "stream",
          "text": [
            "\u001b[31mERROR: Could not find a version that satisfies the requirement pngnq (from versions: none)\u001b[0m\n",
            "\u001b[31mERROR: No matching distribution found for pngnq\u001b[0m\n"
          ],
          "name": "stdout"
        }
      ]
    },
    {
      "cell_type": "code",
      "metadata": {
        "id": "sOeaRJiY4kh1",
        "colab_type": "code",
        "outputId": "f4ada33f-8571-49df-9ac8-6f9490cd7675",
        "colab": {
          "base_uri": "https://localhost:8080/",
          "height": 71
        }
      },
      "source": [
        "!pip install Potrace"
      ],
      "execution_count": 0,
      "outputs": [
        {
          "output_type": "stream",
          "text": [
            "\u001b[31mERROR: Could not find a version that satisfies the requirement Potrace (from versions: none)\u001b[0m\n",
            "\u001b[31mERROR: No matching distribution found for Potrace\u001b[0m\n"
          ],
          "name": "stdout"
        }
      ]
    },
    {
      "cell_type": "code",
      "metadata": {
        "id": "To-kVI_c46ds",
        "colab_type": "code",
        "outputId": "4c1f91ac-dcdf-4982-f74a-e1eb52c2e43e",
        "colab": {
          "base_uri": "https://localhost:8080/",
          "height": 71
        }
      },
      "source": [
        "!pip install imagemagick"
      ],
      "execution_count": 0,
      "outputs": [
        {
          "output_type": "stream",
          "text": [
            "\u001b[31mERROR: Could not find a version that satisfies the requirement imagemagick (from versions: none)\u001b[0m\n",
            "\u001b[31mERROR: No matching distribution found for imagemagick\u001b[0m\n"
          ],
          "name": "stdout"
        }
      ]
    },
    {
      "cell_type": "code",
      "metadata": {
        "id": "uwNyJfdi5WS4",
        "colab_type": "code",
        "colab": {}
      },
      "source": [
        ""
      ],
      "execution_count": 0,
      "outputs": []
    }
  ]
}