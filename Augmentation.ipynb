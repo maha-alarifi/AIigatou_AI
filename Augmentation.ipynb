{
  "nbformat": 4,
  "nbformat_minor": 0,
  "metadata": {
    "colab": {
      "name": "Augmentation.ipynb",
      "provenance": [],
      "collapsed_sections": [],
      "toc_visible": true,
      "include_colab_link": true
    },
    "kernelspec": {
      "name": "python3",
      "display_name": "Python 3"
    },
    "accelerator": "GPU"
  },
  "cells": [
    {
      "cell_type": "markdown",
      "metadata": {
        "id": "view-in-github",
        "colab_type": "text"
      },
      "source": [
        "<a href=\"https://colab.research.google.com/github/maha-alarifi/Aligatou_AI/blob/master/Augmentation.ipynb\" target=\"_parent\"><img src=\"https://colab.research.google.com/assets/colab-badge.svg\" alt=\"Open In Colab\"/></a>"
      ]
    },
    {
      "cell_type": "markdown",
      "metadata": {
        "id": "CIKoyjd0AdNH",
        "colab_type": "text"
      },
      "source": [
        "#Welcome to Aligatou AI Augmentor\n",
        "In this notebook we used Augmentor to increase the number of our datasets examples.\n"
      ]
    },
    {
      "cell_type": "code",
      "metadata": {
        "id": "xr_F9jy3Us-Y",
        "colab_type": "code",
        "outputId": "9e7e17c0-3c27-4964-a789-bc3e0ac2a143",
        "colab": {
          "base_uri": "https://localhost:8080/",
          "height": 122
        }
      },
      "source": [
        "from google.colab import drive\n",
        "drive.mount('/content/drive')"
      ],
      "execution_count": 1,
      "outputs": [
        {
          "output_type": "stream",
          "text": [
            "Go to this URL in a browser: https://accounts.google.com/o/oauth2/auth?client_id=947318989803-6bn6qk8qdgf4n4g3pfee6491hc0brc4i.apps.googleusercontent.com&redirect_uri=urn%3aietf%3awg%3aoauth%3a2.0%3aoob&response_type=code&scope=email%20https%3a%2f%2fwww.googleapis.com%2fauth%2fdocs.test%20https%3a%2f%2fwww.googleapis.com%2fauth%2fdrive%20https%3a%2f%2fwww.googleapis.com%2fauth%2fdrive.photos.readonly%20https%3a%2f%2fwww.googleapis.com%2fauth%2fpeopleapi.readonly\n",
            "\n",
            "Enter your authorization code:\n",
            "··········\n",
            "Mounted at /content/drive\n"
          ],
          "name": "stdout"
        }
      ]
    },
    {
      "cell_type": "code",
      "metadata": {
        "id": "EyEdP6JHachP",
        "colab_type": "code",
        "outputId": "a484b9d4-7c7a-4e59-c8d8-51b84180dc71",
        "colab": {
          "base_uri": "https://localhost:8080/",
          "height": 173
        }
      },
      "source": [
        "pip install Augmentor"
      ],
      "execution_count": 2,
      "outputs": [
        {
          "output_type": "stream",
          "text": [
            "Collecting Augmentor\n",
            "  Downloading https://files.pythonhosted.org/packages/cb/79/861f38d5830cff631e30e33b127076bfef8ac98171e51daa06df0118c75f/Augmentor-0.2.8-py2.py3-none-any.whl\n",
            "Requirement already satisfied: future>=0.16.0 in /usr/local/lib/python3.6/dist-packages (from Augmentor) (0.16.0)\n",
            "Requirement already satisfied: numpy>=1.11.0 in /usr/local/lib/python3.6/dist-packages (from Augmentor) (1.18.1)\n",
            "Requirement already satisfied: Pillow>=5.2.0 in /usr/local/lib/python3.6/dist-packages (from Augmentor) (7.0.0)\n",
            "Requirement already satisfied: tqdm>=4.9.0 in /usr/local/lib/python3.6/dist-packages (from Augmentor) (4.28.1)\n",
            "Installing collected packages: Augmentor\n",
            "Successfully installed Augmentor-0.2.8\n"
          ],
          "name": "stdout"
        }
      ]
    },
    {
      "cell_type": "code",
      "metadata": {
        "id": "dJm8iZjWacrl",
        "colab_type": "code",
        "colab": {}
      },
      "source": [
        "import Augmentor"
      ],
      "execution_count": 0,
      "outputs": []
    },
    {
      "cell_type": "markdown",
      "metadata": {
        "id": "gpvL0feamlKV",
        "colab_type": "text"
      },
      "source": [
        "# **Preparing Dataset A**\n",
        "first set of the colored dataset"
      ]
    },
    {
      "cell_type": "code",
      "metadata": {
        "id": "YBpV5V7uacv1",
        "colab_type": "code",
        "outputId": "ffdd23bd-093c-498f-c293-a46fa06b2292",
        "colab": {
          "base_uri": "https://localhost:8080/",
          "height": 51
        }
      },
      "source": [
        "dataset_A = Augmentor.Pipeline(\"/content/drive/My Drive/AiDataset_February_21/Aligatou_AI -Dataset/originalDataset\")"
      ],
      "execution_count": 0,
      "outputs": [
        {
          "output_type": "stream",
          "text": [
            "Initialised with 121 image(s) found.\n",
            "Output directory set to /content/drive/My Drive/AiDataset_February_21/Dataset 3 3 2020/output."
          ],
          "name": "stdout"
        }
      ]
    },
    {
      "cell_type": "code",
      "metadata": {
        "colab_type": "code",
        "outputId": "9a3d1956-58c0-42fa-918d-1f2a1bee812a",
        "id": "6u2VLoLh_n-j",
        "colab": {
          "base_uri": "https://localhost:8080/",
          "height": 54
        }
      },
      "source": [
        "dataset_A.rotate_random_90(probability=0.7)\n",
        "dataset_A.flip_random(probability=0.7)\n",
        "dataset_A.rotate(probability= 0.75, max_left_rotation=15, max_right_rotation=15)\n",
        "dataset_A.resize(1.0, 512,512)\n",
        "dataset_A.sample(500)"
      ],
      "execution_count": 0,
      "outputs": [
        {
          "output_type": "stream",
          "text": [
            "Processing <PIL.Image.Image image mode=RGB size=512x512 at 0x7F653090D9B0>: 100%|██████████| 500/500 [12:02<00:00,  1.49 Samples/s]\n"
          ],
          "name": "stderr"
        }
      ]
    },
    {
      "cell_type": "markdown",
      "metadata": {
        "id": "Lnwc2yhymy9G",
        "colab_type": "text"
      },
      "source": [
        "# **Preparing Dataset B**\n",
        "first set of the gray dataset"
      ]
    },
    {
      "cell_type": "code",
      "metadata": {
        "id": "Kv9J0b1wf78a",
        "colab_type": "code",
        "outputId": "230813b7-7a0a-470f-ef83-025c6c15d08e",
        "colab": {
          "base_uri": "https://localhost:8080/",
          "height": 51
        }
      },
      "source": [
        "dataset_B = Augmentor.Pipeline(\"/content/drive/My Drive/AiDataset_February_21/Aligatou_AI -Dataset/outliner_white\")"
      ],
      "execution_count": 0,
      "outputs": [
        {
          "output_type": "stream",
          "text": [
            "Initialised with 121 image(s) found.\n",
            "Output directory set to /content/drive/My Drive/AiDataset_February_21/shadesOfGray/output."
          ],
          "name": "stdout"
        }
      ]
    },
    {
      "cell_type": "code",
      "metadata": {
        "id": "myHz-n2UlbgB",
        "colab_type": "code",
        "outputId": "de874b54-c696-430d-ec54-a88eda961c67",
        "colab": {
          "base_uri": "https://localhost:8080/",
          "height": 54
        }
      },
      "source": [
        "dataset_B.rotate_random_90(probability=0.7)\n",
        "dataset_B.flip_random(probability=0.7)\n",
        "dataset_B.rotate(probability= 0.75, max_left_rotation=15, max_right_rotation=15)\n",
        "dataset_B.resize(1.0, 512,512)\n",
        "dataset_B.sample(500)"
      ],
      "execution_count": 0,
      "outputs": [
        {
          "output_type": "stream",
          "text": [
            "Processing <PIL.Image.Image image mode=L size=512x512 at 0x7F65308A2CC0>: 100%|██████████| 500/500 [05:36<00:00,  1.48 Samples/s]\n"
          ],
          "name": "stderr"
        }
      ]
    }
  ]
}