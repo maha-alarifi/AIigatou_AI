{
  "nbformat": 4,
  "nbformat_minor": 0,
  "metadata": {
    "colab": {
      "name": "Segmentation.ipynb",
      "provenance": [],
      "collapsed_sections": [
        "_Qy9J7LgQHwF"
      ],
      "machine_shape": "hm",
      "mount_file_id": "1D9FqaEO-giZVcWsc6S0Jbq4AqTEHhI2b",
      "authorship_tag": "ABX9TyNbXug1xFNyDhJK/0Glcfdl",
      "include_colab_link": true
    },
    "kernelspec": {
      "name": "python3",
      "display_name": "Python 3"
    },
    "accelerator": "GPU"
  },
  "cells": [
    {
      "cell_type": "markdown",
      "metadata": {
        "id": "view-in-github",
        "colab_type": "text"
      },
      "source": [
        "<a href=\"https://colab.research.google.com/github/maha-alarifi/Aligatou_AI/blob/master/Segmentation.ipynb\" target=\"_parent\"><img src=\"https://colab.research.google.com/assets/colab-badge.svg\" alt=\"Open In Colab\"/></a>"
      ]
    },
    {
      "cell_type": "markdown",
      "metadata": {
        "id": "4clNbpGLDLFY",
        "colab_type": "text"
      },
      "source": [
        "#Welcome to Algatou_AI's Image Segmentation Impelmentation \n",
        "In this project we used the K-Mean model to cluster the images colores to have more abstract images."
      ]
    },
    {
      "cell_type": "code",
      "metadata": {
        "id": "e9CaDo3TaT3K",
        "colab_type": "code",
        "colab": {}
      },
      "source": [
        "from skimage.color import rgb2gray\n",
        "import os\n",
        "import glob\n",
        "from PIL import Image\n",
        "import numpy as np\n",
        "import cv2\n",
        "import matplotlib.pyplot as plt\n",
        "%matplotlib inline\n",
        "from scipy import ndimage\n",
        "from sklearn.cluster import KMeans"
      ],
      "execution_count": 0,
      "outputs": []
    },
    {
      "cell_type": "code",
      "metadata": {
        "id": "DS2eQr1YmJ8E",
        "colab_type": "code",
        "colab": {}
      },
      "source": [
        "directory = os.fsencode(\"/content/drive/My Drive/AiDataset_February_21/largeDataset/Ai-Pattern/*.png\")"
      ],
      "execution_count": 0,
      "outputs": []
    },
    {
      "cell_type": "code",
      "metadata": {
        "id": "2rOTE2FVh2vq",
        "colab_type": "code",
        "colab": {}
      },
      "source": [
        "links = glob.glob(directory)\n",
        "imgs = []\n",
        "c = []"
      ],
      "execution_count": 0,
      "outputs": []
    },
    {
      "cell_type": "code",
      "metadata": {
        "id": "kWPWgGeIeVWf",
        "colab_type": "code",
        "outputId": "6246bdea-112f-4040-c56c-45ce7aa678c8",
        "colab": {
          "base_uri": "https://localhost:8080/",
          "height": 34
        }
      },
      "source": [
        "len(links)"
      ],
      "execution_count": 0,
      "outputs": [
        {
          "output_type": "execute_result",
          "data": {
            "text/plain": [
              "45"
            ]
          },
          "metadata": {
            "tags": []
          },
          "execution_count": 6
        }
      ]
    },
    {
      "cell_type": "markdown",
      "metadata": {
        "id": "bf5DYvkNDhsc",
        "colab_type": "text"
      },
      "source": [
        "##Segmentation Recursive Method\n",
        "This recursive method takes two arraies, one with all the images and the other one is empty.  with each recursive call, the frist array is cut by one element. Until the last elemnt, the recursive call returns an array with segmented images."
      ]
    },
    {
      "cell_type": "code",
      "metadata": {
        "id": "8Y6lVkNLdEZK",
        "colab_type": "code",
        "colab": {}
      },
      "source": [
        "def recursive_segmetation (a, b): #(a)is the array with the paths to the images (b)is the empty array to store the segmented images\n",
        "  #process the image a[0]\n",
        "  x = plt.imread(a[0].decode()) #read the image\n",
        "  x_n = x.reshape(x.shape[0]*x.shape[1], x.shape[2]) #flatten the image\n",
        "\n",
        "  for i in range(2,4): #Getting two styles of segmentation for the image a[0],  2 clusters and 3custers\n",
        "    print('fitting the k-mean '+ str(i))\n",
        "    kmeans = KMeans(n_clusters=i, random_state=0).fit(x_n)\n",
        "    pic2show = kmeans.cluster_centers_[kmeans.labels_]\n",
        "    cluster_pic = pic2show.reshape(x.shape[0], x.shape[1], x.shape[2])\n",
        "    b.append(cluster_pic)\n",
        "\n",
        "  if len(a) == 1: #if there is only one image in the array, return b\n",
        "    print('break statment')\n",
        "    return b\n",
        "  else : # if there are more than one image in the array recursive call \n",
        "    print('recursive call')\n",
        "    print(len(a))\n",
        "    return recursive_segmetation(a[1:], b)\n"
      ],
      "execution_count": 0,
      "outputs": []
    },
    {
      "cell_type": "code",
      "metadata": {
        "id": "BVgQ6r1GnX_g",
        "colab_type": "code",
        "outputId": "5cb2488c-d70f-4bd4-e1ca-8b1740885c58",
        "colab": {
          "base_uri": "https://localhost:8080/",
          "height": 680
        }
      },
      "source": [
        "n = 0; # to handel the array with indexces not multiplay of 10s\n",
        "\n",
        "# I broke the array to batches of 10s \n",
        "# in ordere to handel the recursive method weight\n",
        "for i in range((len(links)-10)): \n",
        "  if ((i+10) < len(links)):\n",
        "    n = 10;\n",
        "  else:\n",
        "    n = (len(links))-i;\n",
        "  print(\"batch #\"+str(i))\n",
        "  c.append(recursive_segmetation(links[i:(i+n)],imgs))\n",
        "  !kill -9 -1"
      ],
      "execution_count": 0,
      "outputs": [
        {
          "output_type": "stream",
          "text": [
            "batch #0\n",
            "fitting the k-mean 2\n",
            "fitting the k-mean 3\n",
            "recursive call\n",
            "10\n",
            "fitting the k-mean 2\n",
            "fitting the k-mean 3\n",
            "recursive call\n",
            "9\n",
            "fitting the k-mean 2\n",
            "fitting the k-mean 3\n",
            "recursive call\n",
            "8\n",
            "fitting the k-mean 2\n",
            "fitting the k-mean 3\n",
            "recursive call\n",
            "7\n",
            "fitting the k-mean 2\n",
            "fitting the k-mean 3\n",
            "recursive call\n",
            "6\n",
            "fitting the k-mean 2\n",
            "fitting the k-mean 3\n",
            "recursive call\n",
            "5\n",
            "fitting the k-mean 2\n",
            "fitting the k-mean 3\n",
            "recursive call\n",
            "4\n",
            "fitting the k-mean 2\n",
            "fitting the k-mean 3\n",
            "recursive call\n",
            "3\n",
            "fitting the k-mean 2\n",
            "fitting the k-mean 3\n",
            "recursive call\n",
            "2\n",
            "fitting the k-mean 2\n",
            "fitting the k-mean 3\n"
          ],
          "name": "stdout"
        }
      ]
    },
    {
      "cell_type": "markdown",
      "metadata": {
        "id": "_Qy9J7LgQHwF",
        "colab_type": "text"
      },
      "source": [
        "##Export the Segmented Images"
      ]
    },
    {
      "cell_type": "code",
      "metadata": {
        "id": "TaMtNMqsieKJ",
        "colab_type": "code",
        "outputId": "e85734e2-9345-49f0-bb57-9820432f3c17",
        "colab": {
          "base_uri": "https://localhost:8080/",
          "height": 269
        }
      },
      "source": [
        "for i in range(len(c)):\n",
        "  img = Image.fromarray((c[i-232] * 255).astype(np.uint8))\n",
        "  img.save('/content/drive/My Drive/AiDataset_February_21/segments/S_{:04d}.png'.format(i))"
      ],
      "execution_count": 0,
      "outputs": [
        {
          "output_type": "display_data",
          "data": {
            "image/png": "[encoded data removed]",
            "text/plain": [
              "<Figure size 432x288 with 1 Axes>"
            ]
          },
          "metadata": {
            "tags": []
          }
        }
      ]
    }
  ]
}